{
  "nbformat": 4,
  "nbformat_minor": 0,
  "metadata": {
    "colab": {
      "provenance": [],
      "collapsed_sections": [
        "m7Dc5yE25IYX"
      ]
    },
    "kernelspec": {
      "name": "python3",
      "display_name": "Python 3"
    },
    "language_info": {
      "name": "python"
    }
  },
  "cells": [
    {
      "cell_type": "markdown",
      "source": [
        "# **First Install Package From Github**"
      ],
      "metadata": {
        "id": "iDVfBQwTwiGN"
      }
    },
    {
      "cell_type": "code",
      "source": [
        "!pip install \"git+https://github.com/Turing-Machine-Tutor/Turing-Machine-Tutor.git@main\""
      ],
      "metadata": {
        "id": "w35U7KJEwkZW",
        "colab": {
          "base_uri": "https://localhost:8080/"
        },
        "outputId": "b5a2ec39-838a-4a82-8d92-21feaa5e00e4"
      },
      "execution_count": 2,
      "outputs": [
        {
          "output_type": "stream",
          "name": "stdout",
          "text": [
            "Collecting git+https://github.com/Turing-Machine-Tutor/Turing-Machine-Tutor.git@main\n",
            "  Cloning https://github.com/Turing-Machine-Tutor/Turing-Machine-Tutor.git (to revision main) to /tmp/pip-req-build-wamvgfqi\n",
            "  Running command git clone --filter=blob:none --quiet https://github.com/Turing-Machine-Tutor/Turing-Machine-Tutor.git /tmp/pip-req-build-wamvgfqi\n",
            "  Resolved https://github.com/Turing-Machine-Tutor/Turing-Machine-Tutor.git to commit e7512fbe70bf1017f6ddd43d21ad2bde951a48d7\n",
            "  Installing build dependencies ... \u001b[?25l\u001b[?25hdone\n",
            "  Getting requirements to build wheel ... \u001b[?25l\u001b[?25hdone\n",
            "  Preparing metadata (pyproject.toml) ... \u001b[?25l\u001b[?25hdone\n",
            "Building wheels for collected packages: TuringMachineLib\n",
            "  Building wheel for TuringMachineLib (pyproject.toml) ... \u001b[?25l\u001b[?25hdone\n",
            "  Created wheel for TuringMachineLib: filename=TuringMachineLib-0.0.0-py3-none-any.whl size=31333 sha256=ffd05be68c46452e91507bbabc2a40e501661bfe160f5f871266c1cd59e932ad\n",
            "  Stored in directory: /tmp/pip-ephem-wheel-cache-a8pnfgt8/wheels/11/ac/1c/4ee4716abcc30f9a20b7cfdc775beab548017b8f9ff87a5dc5\n",
            "Successfully built TuringMachineLib\n",
            "Installing collected packages: TuringMachineLib\n",
            "Successfully installed TuringMachineLib-0.0.0\n"
          ]
        }
      ]
    },
    {
      "cell_type": "markdown",
      "source": [
        "# **Imports: dont touch**"
      ],
      "metadata": {
        "id": "gAHmt2TUZQXQ"
      }
    },
    {
      "cell_type": "code",
      "execution_count": 3,
      "metadata": {
        "id": "cxy9bqf8ZOnF"
      },
      "outputs": [],
      "source": [
        "from turing_machine_tutor.TuringMachine import TuringMachine\n",
        "from turing_machine_tutor.CombinedTuringMachine import CombinedTuringMachine\n",
        "from turing_machine_tutor.machine_run_state import Machine_Run_State\n",
        "from turing_machine_tutor.next import next\n",
        "from turing_machine_tutor.IFTuringMachine import IFTuringMachine\n",
        "from turing_machine_tutor.TuringMachineController import TuringMachineController\n",
        "\n",
        "controller = TuringMachineController()"
      ]
    },
    {
      "cell_type": "markdown",
      "source": [
        "# There are 3 challenges for you to implement:\n",
        "- wDw\n",
        "- succesor\n",
        "- a2n_bn"
      ],
      "metadata": {
        "id": "XTn5aSLTj6Oc"
      }
    },
    {
      "cell_type": "code",
      "source": [
        "turing_machine_name=\"wDw\"\n",
        "description=\"turing machine that decides w$w for w over the alphabet {a,b}\"\n",
        "\n",
        "##now the part of defining a function.\n",
        "def is_wDw(txt):\n",
        "  l = len(txt)\n",
        "  if l%2 == 0:\n",
        "      return False\n",
        "  h = l//2\n",
        "  for i in range(l):\n",
        "      if i == h:\n",
        "          if txt[i] != '$':\n",
        "            return  False\n",
        "      elif txt[i] != 'a' and txt[i] != 'b':\n",
        "            return False\n",
        "  left=txt[:h]\n",
        "  right=txt[h+1:]\n",
        "  if left==right:\n",
        "    return True\n",
        "  else:\n",
        "    return False\n",
        "\n",
        "edge_case_list={\"ab$ab\", \"bb$b\", \"$\", \"abb$ab\",\"ab$abb\", \"abc$abc\", \"$$$\", \"a$bbb$a$bbb\"}\n",
        "input_alphabet = {'a', 'b', '$'}\n",
        "controller.add_challenge(turing_machine_name, input_alphabet,description,is_wDw,edge_case_list);"
      ],
      "metadata": {
        "id": "iOXX0Vk6ufWL"
      },
      "execution_count": 4,
      "outputs": []
    },
    {
      "cell_type": "code",
      "source": [
        "# Note: MustPass must include only word the challenge's function return True on them, if not then it will raise an exception, the same for MustFail\n",
        "controller.challenges[\"wDw\"].MustPass({\"$\", \"ab$ab\", })\n",
        "\n",
        "controller.challenges[\"wDw\"].MustFail({\"$$$\", \"bb$b\", \"ab$abb\", \"abb$aba\", \"a$bbb$a$bbb\"})"
      ],
      "metadata": {
        "id": "co0RRg8XVX6j"
      },
      "execution_count": 5,
      "outputs": []
    },
    {
      "cell_type": "code",
      "source": [
        "turing_machine_name=\"successor\"\n",
        "description=\"TM that given two binary strings w1 and w2 representing naturals n1 and n2 return True if n2=n1+1. Technically, we assume that the strigns are given in an interleaved fashion, one bit of the first, one of the second and a delimiter (#). Formally, the TM accets strings over {0,1,#} iff every third letter is # (and others are 0 or 1) and if w1 is the word obtained by concatenating all positions that are 1 modulo 3, and  w2 is the word obtained by concatenating all positions that are 2 modulo 3, and n1,n2 are the natural numbers enccoded by the binary strings w1 and w2, respectively, then n2=n1+1. For instance if the input is 11#00#11#01# then w1=1010 and w2=1011, n1=10, n2=11 so the string is in the accepted.\"\n",
        "\n",
        "\n",
        "def is_successor(txt):\n",
        "  l = len(txt)\n",
        "  if l == 0 or l%3 != 0:\n",
        "      return False\n",
        "  w1 = ''\n",
        "  w2 = ''\n",
        "  for i in range(l):\n",
        "      if i%3 == 0:\n",
        "          if txt[i] != '0' and txt[i] != '1':\n",
        "              return False\n",
        "          w1 += txt[i]\n",
        "      if i%3 == 1:\n",
        "          if txt[i] != '0' and txt[i] != '1':\n",
        "              return False\n",
        "          w2 += txt[i]\n",
        "      if i%3 == 2:\n",
        "          if txt[i] != '#':\n",
        "              return False\n",
        "  n1=int(w1,2)\n",
        "  n2=int(w2,2)\n",
        "  print(w1,w2,n1,n2)\n",
        "  if n2==n1+1:\n",
        "        return True\n",
        "  return False\n",
        "\n",
        "  input_alphabet = {'0', '1', '#'}\n",
        "  controller.challenges[\"successor\"].MustPass({\"11#00#11#01#\", \"01#10#10#\"ת \"01#\"})\n",
        "  controller.challenges[\"successor\"].MustFail({\"11#00#11#00#\", \"11#00#11#10#\" })\n",
        "  edge_case_list={\"11#00#11#01#\", \"01#10#10#\",\"11#00#11#00#\", \"11#00#11#10#\", \"01#\"}\n",
        "  controller.add_challenge(turing_machine_name, input_alphabet, description,is_successor,edge_case_list);"
      ],
      "metadata": {
        "id": "sYef4X2cNHIr"
      },
      "execution_count": 6,
      "outputs": []
    },
    {
      "cell_type": "code",
      "source": [
        "turing_machine_name=\"a2n_bn\"\n",
        "description=\"turing machine that decides a^{2n}b^{n} for any natural number n\"\n",
        "\n",
        "def is_a2n_bn(txt):\n",
        "  l = len(txt)\n",
        "  if l%3 != 0:\n",
        "      return False\n",
        "  h = l//3\n",
        "  left=txt[:2*h]\n",
        "  right=txt[2*h:]\n",
        "  for i in range(len(left)):\n",
        "      if left[i] != 'a':\n",
        "        return False\n",
        "  for i in range(len(right)):\n",
        "      if right[i] != 'b':\n",
        "        return False\n",
        "  return True\n",
        "\n",
        "input_alphabet = {'a', 'b'}\n",
        "edge_case_list={ \"aaaabb\", \"aab\", \"ab\", \"baa\", \"aab\", \"bbbbaa\", \"bbaaaa\" }\n",
        "controller.add_challenge(turing_machine_name,input_alphabet,description,is_a2n_bn,edge_case_list);"
      ],
      "metadata": {
        "id": "_9xpZ6OW29Gn"
      },
      "execution_count": 7,
      "outputs": []
    },
    {
      "cell_type": "code",
      "source": [
        "controller.challenges[\"a2n_bn\"].MustPass({\"aaaabb\", \"aab\"})\n",
        "controller.challenges[\"a2n_bn\"].MustFail({\"ab\", \"baa\", \"bbbbaa\", \"bbaaaa\", \"aabaab\"})"
      ],
      "metadata": {
        "id": "kMnHllenKMdy"
      },
      "execution_count": 8,
      "outputs": []
    },
    {
      "cell_type": "markdown",
      "source": [
        "# Student must start implement from here\n",
        "note: make sure the TM name is the same as the challenge for submission"
      ],
      "metadata": {
        "id": "mZYlvwb63TTD"
      }
    },
    {
      "cell_type": "markdown",
      "source": [
        "# Example for implementing a challenge"
      ],
      "metadata": {
        "id": "WligoBJqjeFl"
      }
    },
    {
      "cell_type": "markdown",
      "source": [
        "[link text](https://)# Challenge 1:\n",
        " this is a example of a turing machine construction"
      ],
      "metadata": {
        "id": "m7Dc5yE25IYX"
      }
    },
    {
      "cell_type": "code",
      "source": [
        "input_ab = controller.challenges[\"wDw\"].input_alphabet.copy()\n",
        "print(input_ab)"
      ],
      "metadata": {
        "colab": {
          "base_uri": "https://localhost:8080/"
        },
        "id": "9Ahw2p7N3X7s",
        "outputId": "131fb45b-67b4-410d-ced2-740a66b9b33b"
      },
      "execution_count": 9,
      "outputs": [
        {
          "output_type": "stream",
          "name": "stdout",
          "text": [
            "{'a', '$', 'b'}\n"
          ]
        }
      ]
    },
    {
      "cell_type": "code",
      "source": [
        "tm_challenge1 = TuringMachine(# this machine converts first encountered 1 to 0\n",
        "            states={'q0', 'q1', 'q2'},\n",
        "            input_alphabet= {'a', '$', 'b'} ,\n",
        "            tape_symbols= {'a', 'B', '$', 'b'},\n",
        "            transitions={\n",
        "                ('q0', 'a'): next('q0', 'a', 'R'),  # if encountered a just move right\n",
        "                ('q0', 'b'): next('q1', 'a', 'R'),  # if encountered b put a and move right\n",
        "                ('q0', 'B'): next('q1', 'B', 'S'),\n",
        "                ('q1', 'a'): next('q1', 'a', 'S'),  # after reaching q1 don't do anything (Stay)\n",
        "                ('q1', 'b'): next('q1', 'b', 'S'),  # after reaching q1 don't do anything\n",
        "                ('q1', 'B'): next('q1', 'B', 'S'),  # after reaching q1 don't do anything\n",
        "\n",
        "            },\n",
        "            initial_state='q0',\n",
        "            accept_states={'q1'},\n",
        "            reject_states={'q2'}\n",
        "        )"
      ],
      "metadata": {
        "id": "jMFu_kLJ-zd5"
      },
      "execution_count": 10,
      "outputs": []
    },
    {
      "cell_type": "markdown",
      "source": [
        "## After you build it you need to add it to the controller and give it the same name  that was given by the TA:\n"
      ],
      "metadata": {
        "id": "HK6Mo9-A32qL"
      }
    },
    {
      "cell_type": "code",
      "source": [
        "controller.add_turing_machine('wDw', tm_challenge1)"
      ],
      "metadata": {
        "id": "Uc08PRvq3wGr"
      },
      "execution_count": 11,
      "outputs": []
    },
    {
      "cell_type": "markdown",
      "source": [
        "# If you have modifed the TM and want to update it simply run this command"
      ],
      "metadata": {
        "id": "jNp6hTGx4BVk"
      }
    },
    {
      "cell_type": "code",
      "source": [
        "controller.update_turing_machine('wDw', tm_challenge1)"
      ],
      "metadata": {
        "id": "tE_kfX664A4I"
      },
      "execution_count": 11,
      "outputs": []
    },
    {
      "cell_type": "markdown",
      "source": [
        "# You can also run the tm on a given input and Visulaize the TM behaviour"
      ],
      "metadata": {
        "id": "9My5d65J4gvG"
      }
    },
    {
      "cell_type": "code",
      "source": [
        "mrs = controller.run_turing_machine('wDw', 'aab$aab')"
      ],
      "metadata": {
        "id": "r9a4m1Bp38JB",
        "colab": {
          "base_uri": "https://localhost:8080/"
        },
        "outputId": "912035e5-a5da-4bd5-8b99-b7d22ec6f565"
      },
      "execution_count": 12,
      "outputs": [
        {
          "output_type": "stream",
          "name": "stdout",
          "text": [
            "tape:= aaa$aab\n",
            "accepted:= True\n"
          ]
        }
      ]
    },
    {
      "cell_type": "code",
      "source": [
        "controller.visualize('wDw',\"baa\")"
      ],
      "metadata": {
        "id": "R5ve9wp24px7",
        "colab": {
          "base_uri": "https://localhost:8080/"
        },
        "outputId": "bd0d6773-e54e-42a1-81e5-dc2662f04adf"
      },
      "execution_count": 13,
      "outputs": [
        {
          "output_type": "stream",
          "name": "stdout",
          "text": [
            "reached accept state\n"
          ]
        }
      ]
    },
    {
      "cell_type": "markdown",
      "source": [
        "# Validate the turing machine"
      ],
      "metadata": {
        "id": "ngHcqRA_4z6p"
      }
    },
    {
      "cell_type": "code",
      "source": [
        "controller.validate_turing_machine('wDw',is_wDw)"
      ],
      "metadata": {
        "id": "SuqXK4E_4w1p",
        "colab": {
          "base_uri": "https://localhost:8080/"
        },
        "outputId": "7f62b570-946a-44f9-ed17-8673093d29c6"
      },
      "execution_count": 14,
      "outputs": [
        {
          "output_type": "stream",
          "name": "stdout",
          "text": [
            "testing on input: b\n",
            "Validation failed for input: b , func returned: False TM returned: True\n"
          ]
        },
        {
          "output_type": "execute_result",
          "data": {
            "text/plain": [
              "False"
            ]
          },
          "metadata": {},
          "execution_count": 14
        }
      ]
    },
    {
      "cell_type": "markdown",
      "source": [
        "# Challenge 1"
      ],
      "metadata": {
        "id": "mrSQI7xh5Tlm"
      }
    },
    {
      "cell_type": "code",
      "source": [],
      "metadata": {
        "id": "Cwi3QcWhkXtJ"
      },
      "execution_count": null,
      "outputs": []
    },
    {
      "cell_type": "markdown",
      "source": [
        "# Challenge 2"
      ],
      "metadata": {
        "id": "ZMlxS4mfkS9B"
      }
    },
    {
      "cell_type": "code",
      "source": [],
      "metadata": {
        "id": "imQFHIRU5i1a"
      },
      "execution_count": null,
      "outputs": []
    },
    {
      "cell_type": "markdown",
      "source": [
        "# Challenge 3"
      ],
      "metadata": {
        "id": "YNPo_GjS8Ot7"
      }
    },
    {
      "cell_type": "code",
      "source": [],
      "metadata": {
        "id": "4WrIUC9t8Npl"
      },
      "execution_count": null,
      "outputs": []
    },
    {
      "cell_type": "markdown",
      "source": [
        "#Submission"
      ],
      "metadata": {
        "id": "PjruCCCz8S7a"
      }
    },
    {
      "cell_type": "code",
      "source": [
        "controller.submit()"
      ],
      "metadata": {
        "id": "RomtikOC8Ujq"
      },
      "execution_count": null,
      "outputs": []
    }
  ]
}