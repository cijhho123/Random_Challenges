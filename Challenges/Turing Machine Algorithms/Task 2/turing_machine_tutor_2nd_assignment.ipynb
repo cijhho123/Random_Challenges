{
  "cells": [
    {
      "cell_type": "markdown",
      "metadata": {
        "id": "i7DT8Hbic-CM"
      },
      "source": [
        "# **First Install Package From Github**"
      ]
    },
    {
      "cell_type": "code",
      "execution_count": null,
      "metadata": {
        "colab": {
          "base_uri": "https://localhost:8080/"
        },
        "id": "oEp1yac_dIa4",
        "outputId": "867e17fa-27c5-4bb9-b8be-3da9c20ef4d9"
      },
      "outputs": [
        {
          "output_type": "stream",
          "name": "stdout",
          "text": [
            "Collecting git+https://github.com/Turing-Machine-Tutor/Turing-Machine-Tutor.git@main\n",
            "  Cloning https://github.com/Turing-Machine-Tutor/Turing-Machine-Tutor.git (to revision main) to /tmp/pip-req-build-wl5687bc\n",
            "  Running command git clone --filter=blob:none --quiet https://github.com/Turing-Machine-Tutor/Turing-Machine-Tutor.git /tmp/pip-req-build-wl5687bc\n",
            "  Resolved https://github.com/Turing-Machine-Tutor/Turing-Machine-Tutor.git to commit 9b2e59edb2e75e5217c4db8bef84a8476caa5c52\n",
            "  Installing build dependencies ... \u001b[?25l\u001b[?25hdone\n",
            "  Getting requirements to build wheel ... \u001b[?25l\u001b[?25hdone\n",
            "  Preparing metadata (pyproject.toml) ... \u001b[?25l\u001b[?25hdone\n",
            "Building wheels for collected packages: TuringMachineLib\n",
            "  Building wheel for TuringMachineLib (pyproject.toml) ... \u001b[?25l\u001b[?25hdone\n",
            "  Created wheel for TuringMachineLib: filename=TuringMachineLib-0.0.0-py3-none-any.whl size=42999 sha256=c15aa40f5a45f00b0b9e036e4451a08dd74be64d67d54b1303fe3fbbd118ab6e\n",
            "  Stored in directory: /tmp/pip-ephem-wheel-cache-u34q93ll/wheels/11/ac/1c/4ee4716abcc30f9a20b7cfdc775beab548017b8f9ff87a5dc5\n",
            "Successfully built TuringMachineLib\n",
            "Installing collected packages: TuringMachineLib\n",
            "Successfully installed TuringMachineLib-0.0.0\n"
          ]
        }
      ],
      "source": [
        "!pip install \"git+https://github.com/Turing-Machine-Tutor/Turing-Machine-Tutor.git@main\""
      ]
    },
    {
      "cell_type": "markdown",
      "metadata": {
        "id": "gAHmt2TUZQXQ"
      },
      "source": [
        "# **Imports: dont touch**\n"
      ]
    },
    {
      "cell_type": "code",
      "execution_count": null,
      "metadata": {
        "id": "cxy9bqf8ZOnF"
      },
      "outputs": [],
      "source": [
        "from turing_machine_tutor.TuringMachine import TuringMachine\n",
        "from turing_machine_tutor.machine_run_state import Machine_Run_State\n",
        "from turing_machine_tutor.Next import Next\n",
        "from turing_machine_tutor.MultiNext import MultiNext\n",
        "from turing_machine_tutor.Call_Turing_Machine import Call_Turing_Machine\n",
        "from turing_machine_tutor.TuringMachineController import TuringMachineController\n",
        "from turing_machine_tutor.MultiTapeTuringMachine import MultiTapeTuringMachine\n",
        "\n",
        "controller = TuringMachineController()"
      ]
    },
    {
      "cell_type": "markdown",
      "source": [
        "### Assignment 2 challenges\n",
        "\n",
        "## First challenge\n",
        "\n",
        "Build a TM machine that checks if a given string is a palindrom.\n",
        "\n",
        "Note that you may use a multi-tape TM, which may greatly facitilate the task.\n",
        "\n",
        "The alphabet is {a,b}.\n",
        "\n",
        "See examples of words that are or are-not palindrom under MustPass and MustFail."
      ],
      "metadata": {
        "id": "ne35_M2ZxfTP"
      }
    },
    {
      "cell_type": "code",
      "source": [
        "turing_machine_name=\"IsPalindrom\"\n",
        "description=\"turing machine that cheks if the given string is a palindrom\"\n",
        "\n",
        "def isPalindrom(input_string):\n",
        "    w=input_string\n",
        "    wr=w[::-1]\n",
        "    if w==wr:\n",
        "        return True\n",
        "    else:\n",
        "        return False\n",
        "\n",
        "input_alphabet = {'a', 'b'}\n",
        "edge_case_list={\"aba\",\"abba\"}\n",
        "controller.add_challenge(turing_machine_name, {'a','b'}, description, isPalindrom, {\"aba\"})"
      ],
      "metadata": {
        "id": "tbg4iPnxx_Lk"
      },
      "execution_count": null,
      "outputs": []
    },
    {
      "cell_type": "code",
      "source": [
        "controller.challenges[turing_machine_name].MustPass([(\"\",True), (\"bab\",True), (\"abba\",True), (\"babbabbabbab\",True) ])\n",
        "controller.challenges[turing_machine_name].MustFail([(\"aabba\",False), (\"baabab\",False) ])"
      ],
      "metadata": {
        "id": "BoaWlgBvyE18"
      },
      "execution_count": null,
      "outputs": []
    },
    {
      "cell_type": "markdown",
      "source": [
        "## Second challenge\n",
        "\n",
        "Build a TM that receives a unary string such as \"11111111\", and returns a unary string of length half the length of the given string.\n",
        "\n",
        "Note that here you need to implement a TM that conputes a function from strings to strings (rather than defines a language).\n",
        "\n",
        "Use a multi-tape TM. Recall that the input is on the first tape (indexed 0) and the output is on the last tape.\n",
        "\n",
        "The alphabet is {1}.\n",
        "\n",
        "See examples of words valid input-output pairs under MustPass.\n",
        "\n"
      ],
      "metadata": {
        "id": "xkX-0UkzyXKx"
      }
    },
    {
      "cell_type": "code",
      "source": [
        "turing_machine_name=\"DivideByTwo\"\n",
        "description=\"turing machine that gets a unary string and returns a unary string of half the length of the input\"\n",
        "\n",
        "def divideByTwo(unary_string):\n",
        "    n=len(unary_string)\n",
        "    m=n//2\n",
        "    res = '1'*m\n",
        "    return res\n",
        "input_alphabet = {'1'}\n",
        "edge_case_list={\"111\", \"1111\", \"\"}\n",
        "\n",
        "controller.add_challenge(turing_machine_name, {'1'}, description, divideByTwo, {\"111\"})"
      ],
      "metadata": {
        "id": "Hiq4Q5ukzOYn"
      },
      "execution_count": null,
      "outputs": []
    },
    {
      "cell_type": "code",
      "source": [
        "controller.challenges[turing_machine_name].MustPass([(\"\",\"\"), (\"1\",\"\"), (\"11\",\"1\"), (\"111\",\"1\"), (\"1111\",\"11\"),  (\"11111\",\"11\"), (\"11111\",\"11\")])\n"
      ],
      "metadata": {
        "id": "GBz4MIboDdiK"
      },
      "execution_count": null,
      "outputs": []
    },
    {
      "cell_type": "markdown",
      "source": [
        "## Third challenge\n",
        "Build a TM that receives a unary string such as \"11111111\", and returns a unary string of length equal to the log on base 2 of the length of the given string.\n",
        "\n",
        "Note that here you need to implement a TM that conputes a function from strings to strings (rather than defines a language).\n",
        "\n",
        "Use a multi-tape TM. Recall that the input is on the first tape (indexed 0) and the output is on the last tape.\n",
        "\n",
        "The alphabet is {1}.\n",
        "\n",
        "See examples of words valid input-output pairs under MustPass."
      ],
      "metadata": {
        "id": "A64uUIH4Di9D"
      }
    },
    {
      "cell_type": "code",
      "source": [
        "import math\n",
        "turing_machine_name=\"LogBaseTwo\"\n",
        "description=\"turing machine that gets a unary string and returns a unary string of length log 2 of the length of the input string\"\n",
        "\n",
        "def logBaseTwo(unary_string):\n",
        "    n=len(unary_string)\n",
        "    if n==0:\n",
        "        return \"\"\n",
        "    m=math.log2(n)\n",
        "    res = '1'*int(m)\n",
        "    return res\n",
        "input_alphabet = {'1'}\n",
        "edge_case_list={\"111\", \"1111\", \"\"}\n",
        "\n",
        "controller.add_challenge(turing_machine_name, {'1'}, description, logBaseTwo, {\"111\"})"
      ],
      "metadata": {
        "id": "pBY1c9v1DwDp"
      },
      "execution_count": null,
      "outputs": []
    },
    {
      "cell_type": "code",
      "source": [
        "controller.challenges[turing_machine_name].MustPass([(\"\",\"\"), (\"1\",\"\"), (\"11\",\"1\"), (\"111\",\"1\"), (\"1111\",\"11\"),  (\"11111\",\"11\"), (\"11111\",\"11\"), (\"1111111\",\"11\"), (\"11111111\", \"111\")] )\n"
      ],
      "metadata": {
        "id": "tFJBJGNeD2Ib"
      },
      "execution_count": null,
      "outputs": []
    },
    {
      "cell_type": "markdown",
      "source": [
        "**Good luck** 😀"
      ],
      "metadata": {
        "id": "268capGaD6U6"
      }
    }
  ],
  "metadata": {
    "colab": {
      "provenance": []
    },
    "kernelspec": {
      "display_name": "Python 3",
      "name": "python3"
    },
    "language_info": {
      "name": "python"
    }
  },
  "nbformat": 4,
  "nbformat_minor": 0
}